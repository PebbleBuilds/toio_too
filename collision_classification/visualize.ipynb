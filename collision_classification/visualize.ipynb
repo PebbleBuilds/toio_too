{
 "cells": [
  {
   "cell_type": "code",
   "execution_count": 43,
   "metadata": {},
   "outputs": [],
   "source": [
    "import csv, os, glob\n",
    "import random\n",
    "import numpy as np\n",
    "from numpy.fft import rfft\n",
    "from sklearn.neighbors import KNeighborsClassifier\n",
    "from sklearn.ensemble import RandomForestClassifier\n",
    "from sklearn.metrics import accuracy_score, confusion_matrix, precision_score, recall_score, ConfusionMatrixDisplay\n",
    "from sklearn.svm import SVC\n",
    "\n",
    "from scipy.spatial import distance\n",
    "from scipy.signal import decimate\n",
    "from sklearn.model_selection import train_test_split\n",
    "from sklearn.svm import SVC\n",
    "from sklearn.model_selection import GridSearchCV\n",
    "from sklearn.metrics import classification_report\n",
    "from sklearn import decomposition\n",
    "import time\n",
    "\n",
    "from helpers import *\n",
    "\n",
    "import pandas as pd\n",
    "\n",
    "import matplotlib.pyplot as pp"
   ]
  },
  {
   "cell_type": "code",
   "execution_count": 95,
   "metadata": {},
   "outputs": [],
   "source": [
    "def addGradient_sk(data_array, feature):\n",
    "    data_shape = list(data_array.shape)\n",
    "    data_shape[1] += 1\n",
    "    new_data_array = np.zeros(data_shape)\n",
    "    new_data_array[0:data_array.shape[0],0:data_array.shape[1]] = data_array\n",
    "    new_data_array[:,-1] = np.gradient(data_array[:,feature])\n",
    "    return new_data_array\n",
    "\n",
    "categories = [loadData(\"./csv_data/november_11_collisions/hard_moving\"),loadData(\"./csv_data/november_11_collisions/hard_still\"),\n",
    "                        loadData(\"./csv_data/november_11_collisions/soft_moving\"),loadData(\"./csv_data/november_11_collisions/soft_still\"),\n",
    "                        loadData(\"./csv_data/november_11_collisions/no_collision\")]\n",
    "\n",
    "# Split the data into tuples of processed data and labels\n",
    "dataPairs = []\n",
    "\n",
    "# Remove time and figure out max length\n",
    "max_length = 0\n",
    "num_samples = 0\n",
    "idx_to_keep = [2,3]\n",
    "\n",
    "for i, c in enumerate(categories):\n",
    "    for sample_idx in range(0,len(c)):\n",
    "        num_samples += 1\n",
    "        c[sample_idx] = cropFeatures(c[sample_idx],idx_to_keep)\n",
    "        if len(c[sample_idx]) > max_length:\n",
    "            max_length = len(c[sample_idx])\n",
    "\n",
    "\n",
    "\n",
    "# Convert to np array, decimate, pad, normalize, and flatten\n",
    "num_features = len(idx_to_keep) + 2 + 2\n",
    "decimate_factor = 1\n",
    "max_length = max_length // decimate_factor\n",
    "X_all = np.zeros((num_samples, max_length , num_features))\n",
    "y_all = np.zeros((num_samples))\n",
    "\n",
    "sample_idx = 0\n",
    "for i, c in enumerate(categories):\n",
    "    for arr in c:\n",
    "        arr = np.asarray(arr)\n",
    "        #arr = decimate(arr,decimate_factor,axis=0)\n",
    "        arr = np.pad(arr,[(0,max_length - arr.shape[0]),(0,0)],mode=\"edge\")\n",
    "        arr = addFFT_sk(arr,0,110)\n",
    "        arr = addFFT_sk(arr,1,110)\n",
    "        arr = addGradient_sk(arr,0)\n",
    "        arr = addGradient_sk(arr,1)\n",
    "        #arr = normalizeFeatures(arr)\n",
    "        #arr = arr.flatten()\n",
    "        X_all[sample_idx] = arr\n",
    "\n",
    "        # 5-fold classification\n",
    "        y_all[sample_idx] = i\n",
    "\n",
    "        # Classifying soft vs hard\n",
    "        #if i == 0 or i == 1:\n",
    "        #    y_all[sample_idx] = 0\n",
    "        #else:\n",
    "        #    y_all[sample_idx] = 1\n",
    "\n",
    "        # Classifying moving vs still\n",
    "        #if i == 0 or i == 2:\n",
    "        #    y_all[sample_idx] = 0\n",
    "        #else:\n",
    "        #    y_all[sample_idx] = 1\n",
    "\n",
    "        sample_idx += 1"
   ]
  },
  {
   "cell_type": "code",
   "execution_count": 84,
   "metadata": {},
   "outputs": [
    {
     "name": "stdout",
     "output_type": "stream",
     "text": [
      "HarD_moving starts at: 0\n",
      "Hard_Still starts at: 12\n",
      "Soft_moving starts at: 26\n",
      "Soft_still starts at: 38\n",
      "No collision starts at: 50\n"
     ]
    }
   ],
   "source": [
    "print(\"HarD_moving starts at: 0\")\n",
    "print(\"Hard_Still starts at:\",np.where(y_all==1)[0][0])\n",
    "print(\"Soft_moving starts at:\",np.where(y_all==2)[0][0])\n",
    "print(\"Soft_still starts at:\",np.where(y_all==3)[0][0])\n",
    "print(\"No collision starts at:\",np.where(y_all==4)[0][0])"
   ]
  },
  {
   "cell_type": "code",
   "execution_count": 106,
   "metadata": {},
   "outputs": [
    {
     "data": {
      "image/png": "[encoded data removed]",
      "text/plain": [
       "<Figure size 640x480 with 1 Axes>"
      ]
     },
     "metadata": {},
     "output_type": "display_data"
    }
   ],
   "source": [
    "# Visualizing things\n",
    "idx_1 = 10\n",
    "idx_2 = 38\n",
    "feature = 2\n",
    "pp.plot(X_all[idx_1,:,feature],'g')\n",
    "pp.plot(X_all[idx_2,:,feature],'r')\n",
    "pp.show()"
   ]
  }
 ],
 "metadata": {
  "kernelspec": {
   "display_name": "base",
   "language": "python",
   "name": "python3"
  },
  "language_info": {
   "codemirror_mode": {
    "name": "ipython",
    "version": 3
   },
   "file_extension": ".py",
   "mimetype": "text/x-python",
   "name": "python",
   "nbconvert_exporter": "python",
   "pygments_lexer": "ipython3",
   "version": "3.9.13"
  }
 },
 "nbformat": 4,
 "nbformat_minor": 2
}
